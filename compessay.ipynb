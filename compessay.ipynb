{
 "cells": [
  {
   "cell_type": "markdown",
   "metadata": {},
   "source": [
    "### Introduction #\n",
    "In the introduction, you should aim to tell the reader what your project is about. In doing so, you should answer the following questions:\n",
    "\n",
    "What is the question you are trying to answer or the story that you are trying you tell?\n",
    "Why is this question or story important?\n",
    "What were the main steps your project made towards answering the question or telling the story?\n",
    "Beyond answering these questions, you are free to structure this section however you wish.\n",
    "\n",
    "### Methodology #\n",
    "In the methodology, you should explain how you obtained, processed, and summarized or visualized the data. In doing so, you should answer the following questions:\n",
    "\n",
    "Where did you get your data from?\n",
    "How did you get this data (i.e., did you programmatically download it or did you access it through an API)?\n",
    "How did you store and/or process this data (e.g., did you store and process it in Pandas)?\n",
    "What information did you get from this data that you used in the presentation of your results?\n",
    "### Results #\n",
    "In the results, you should show the main summaries or visualizations of your data, along with any accompanying information. In doing so, you should answer the following questions:\n",
    "\n",
    "What summaries or visualizations did you create?\n",
    "What are the interesting and/or important parts of these summaries or visualizations?\n",
    "How do these results answer your questions or tell your story?\n",
    "### Conclusion #\n",
    "In the conclusion, you should provide key takeaways for the reader. In doing so, you should answer the following questions, where applicable:\n",
    "\n",
    "What are the important insights that the reader should get from this project?\n",
    "What are the contextual or ethical implications of your topic or work?\n",
    "What lessons did you learn as you did the project?\n",
    "What were the most difficult, challenging, or frustrating parts of the project?\n",
    "In what ways would you extend or change your project if you had more time?"
   ]
  },
  {
   "cell_type": "markdown",
   "metadata": {},
   "source": [
    "***Please run the following code below to ensure the jupyter notebook can run*** "
   ]
  },
  {
   "cell_type": "code",
   "execution_count": null,
   "metadata": {},
   "outputs": [],
   "source": [
    "pip install pytrends\n"
   ]
  },
  {
   "cell_type": "markdown",
   "metadata": {},
   "source": [
    "# SoftDes Midterm Project: ***Google Trends vs EIU Index Changes***\n",
    "#### Authors: Arnav Gupta and Rohith Tatineni\n",
    "#### Erhardt 4\n",
    "***\n",
    "### Introduction\n",
    "\n",
    "Our question we are trying to answer is: *Are individuals in the USA with access to Google culturally aware (or care) of international democracy changes?*\n",
    "\n",
    "> This question is interesting to explore because we want to see if individuals are searching for international democracy changes. If there were extreme changes in a country, it would be a good sign for people to be searching for such changs, as this would mean individuals are being better global citizens. \n",
    "We took data from Google Trends, where Google stores search popularity over time on its search engine. You are free to search some terms on Google's UI of Google Trends. (add link) We used this tool as to grasp an initial understanding of what are data was and what it means, as well as looking at areas to explore or specify in. For example, we decided to restrict our searches to US as it would be bias to not include non-english terms in our searches. Our EIU data is from Gapminder, which can be found here (talk more about it, and/or as we can say anything).  \n",
    "\n",
    "### Methodology\n",
    "\n",
    "#### Google Trends Data\n",
    "> The Google Trends data was accessed using an api called *Pytrends*. We used Pytrends to collect historical interest of specified keywords from 2006-2018 per month. The data is normalized on a scale from 0-100, where 100 would be highest interest, and 0 would least interest. In this case, all historical interest is in the scope of just the United States. This data was saved with `makeCSV()` and read with the `readCSV()` function. The data was saved in a CSV to avoid pinging google several times and saves the data in a folder called *pytrends_Data* and named as keywords. The data was processed using Pandas and its dataframe methods. This data was plotted to show graphs of rolling averages, rate of changes, histograms, boxplots, and interest over time. \n",
    "#### Gapminder Data\n",
    "\n",
    "### Results\n",
    "\n"
   ]
  },
  {
   "cell_type": "code",
   "execution_count": null,
   "metadata": {},
   "outputs": [],
   "source": [
    "tunisiaDem_list = [\"Tunisia Democracy\"]\n",
    "import plotCountryUpdated\n",
    "plotCountryUpdated.pytrendAnalysis(tunisiaDem_list, \"Tunisia Democracy\", 4)"
   ]
  },
  {
   "cell_type": "markdown",
   "metadata": {},
   "source": [
    "### Conclusion"
   ]
  }
 ],
 "metadata": {
  "kernelspec": {
   "display_name": "Python 3",
   "language": "python",
   "name": "python3"
  },
  "language_info": {
   "codemirror_mode": {
    "name": "ipython",
    "version": 3
   },
   "file_extension": ".py",
   "mimetype": "text/x-python",
   "name": "python",
   "nbconvert_exporter": "python",
   "pygments_lexer": "ipython3",
   "version": "3.8.5"
  }
 },
 "nbformat": 4,
 "nbformat_minor": 4
}
