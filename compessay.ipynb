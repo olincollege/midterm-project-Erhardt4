{
 "cells": [
  {
   "cell_type": "markdown",
   "metadata": {},
   "source": [
    "Introduction #\n",
    "In the introduction, you should aim to tell the reader what your project is about. In doing so, you should answer the following questions:\n",
    "\n",
    "What is the question you are trying to answer or the story that you are trying you tell?\n",
    "Why is this question or story important?\n",
    "What were the main steps your project made towards answering the question or telling the story?\n",
    "Beyond answering these questions, you are free to structure this section however you wish.\n",
    "\n",
    "Methodology #\n",
    "In the methodology, you should explain how you obtained, processed, and summarized or visualized the data. In doing so, you should answer the following questions:\n",
    "\n",
    "Where did you get your data from?\n",
    "How did you get this data (i.e., did you programmatically download it or did you access it through an API)?\n",
    "How did you store and/or process this data (e.g., did you store and process it in Pandas)?\n",
    "What information did you get from this data that you used in the presentation of your results?\n",
    "Results #\n",
    "In the results, you should show the main summaries or visualizations of your data, along with any accompanying information. In doing so, you should answer the following questions:\n",
    "\n",
    "What summaries or visualizations did you create?\n",
    "What are the interesting and/or important parts of these summaries or visualizations?\n",
    "How do these results answer your questions or tell your story?\n",
    "Conclusion #\n",
    "In the conclusion, you should provide key takeaways for the reader. In doing so, you should answer the following questions, where applicable:\n",
    "\n",
    "What are the important insights that the reader should get from this project?\n",
    "What are the contextual or ethical implications of your topic or work?\n",
    "What lessons did you learn as you did the project?\n",
    "What were the most difficult, challenging, or frustrating parts of the project?\n",
    "In what ways would you extend or change your project if you had more time?"
   ]
  }
 ],
 "metadata": {
  "kernelspec": {
   "display_name": "Python 3",
   "language": "python",
   "name": "python3"
  },
  "language_info": {
   "codemirror_mode": {
    "name": "ipython",
    "version": 3
   },
   "file_extension": ".py",
   "mimetype": "text/x-python",
   "name": "python",
   "nbconvert_exporter": "python",
   "pygments_lexer": "ipython3",
   "version": "3.8.5"
  }
 },
 "nbformat": 4,
 "nbformat_minor": 4
}
