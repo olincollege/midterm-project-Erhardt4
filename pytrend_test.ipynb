{
 "cells": [
  {
   "cell_type": "code",
   "execution_count": 21,
   "metadata": {},
   "outputs": [],
   "source": [
    "%load_ext autoreload\n",
    "%autoreload 2"
   ]
  },
  {
   "cell_type": "code",
   "execution_count": null,
   "metadata": {},
   "outputs": [],
   "source": [
    "pip install pytrends"
   ]
  },
  {
   "cell_type": "code",
   "execution_count": 22,
   "metadata": {},
   "outputs": [],
   "source": [
    "from pytrends.request import TrendReq\n",
    "\n",
    "pytrends = TrendReq(hl='en-US', tz=360)\n"
   ]
  },
  {
   "cell_type": "code",
   "execution_count": 23,
   "metadata": {},
   "outputs": [
    {
     "data": {
      "text/html": [
       "<div>\n",
       "<style scoped>\n",
       "    .dataframe tbody tr th:only-of-type {\n",
       "        vertical-align: middle;\n",
       "    }\n",
       "\n",
       "    .dataframe tbody tr th {\n",
       "        vertical-align: top;\n",
       "    }\n",
       "\n",
       "    .dataframe thead th {\n",
       "        text-align: right;\n",
       "    }\n",
       "</style>\n",
       "<table border=\"1\" class=\"dataframe\">\n",
       "  <thead>\n",
       "    <tr style=\"text-align: right;\">\n",
       "      <th></th>\n",
       "      <th>hi</th>\n",
       "      <th>us</th>\n",
       "      <th>Tunisia Democracy</th>\n",
       "    </tr>\n",
       "    <tr>\n",
       "      <th>date</th>\n",
       "      <th></th>\n",
       "      <th></th>\n",
       "      <th></th>\n",
       "    </tr>\n",
       "  </thead>\n",
       "  <tbody>\n",
       "    <tr>\n",
       "      <th>2004-01-01</th>\n",
       "      <td>3</td>\n",
       "      <td>69</td>\n",
       "      <td>0</td>\n",
       "    </tr>\n",
       "    <tr>\n",
       "      <th>2004-02-01</th>\n",
       "      <td>4</td>\n",
       "      <td>70</td>\n",
       "      <td>0</td>\n",
       "    </tr>\n",
       "    <tr>\n",
       "      <th>2004-03-01</th>\n",
       "      <td>4</td>\n",
       "      <td>69</td>\n",
       "      <td>0</td>\n",
       "    </tr>\n",
       "    <tr>\n",
       "      <th>2004-04-01</th>\n",
       "      <td>4</td>\n",
       "      <td>69</td>\n",
       "      <td>0</td>\n",
       "    </tr>\n",
       "    <tr>\n",
       "      <th>2004-05-01</th>\n",
       "      <td>4</td>\n",
       "      <td>70</td>\n",
       "      <td>0</td>\n",
       "    </tr>\n",
       "    <tr>\n",
       "      <th>...</th>\n",
       "      <td>...</td>\n",
       "      <td>...</td>\n",
       "      <td>...</td>\n",
       "    </tr>\n",
       "    <tr>\n",
       "      <th>2020-12-01</th>\n",
       "      <td>4</td>\n",
       "      <td>65</td>\n",
       "      <td>0</td>\n",
       "    </tr>\n",
       "    <tr>\n",
       "      <th>2021-01-01</th>\n",
       "      <td>4</td>\n",
       "      <td>67</td>\n",
       "      <td>0</td>\n",
       "    </tr>\n",
       "    <tr>\n",
       "      <th>2021-02-01</th>\n",
       "      <td>4</td>\n",
       "      <td>62</td>\n",
       "      <td>0</td>\n",
       "    </tr>\n",
       "    <tr>\n",
       "      <th>2021-03-01</th>\n",
       "      <td>4</td>\n",
       "      <td>61</td>\n",
       "      <td>0</td>\n",
       "    </tr>\n",
       "    <tr>\n",
       "      <th>2021-04-01</th>\n",
       "      <td>4</td>\n",
       "      <td>62</td>\n",
       "      <td>0</td>\n",
       "    </tr>\n",
       "  </tbody>\n",
       "</table>\n",
       "<p>208 rows × 3 columns</p>\n",
       "</div>"
      ],
      "text/plain": [
       "            hi  us  Tunisia Democracy\n",
       "date                                 \n",
       "2004-01-01   3  69                  0\n",
       "2004-02-01   4  70                  0\n",
       "2004-03-01   4  69                  0\n",
       "2004-04-01   4  69                  0\n",
       "2004-05-01   4  70                  0\n",
       "...         ..  ..                ...\n",
       "2020-12-01   4  65                  0\n",
       "2021-01-01   4  67                  0\n",
       "2021-02-01   4  62                  0\n",
       "2021-03-01   4  61                  0\n",
       "2021-04-01   4  62                  0\n",
       "\n",
       "[208 rows x 3 columns]"
      ]
     },
     "execution_count": 23,
     "metadata": {},
     "output_type": "execute_result"
    }
   ],
   "source": [
    "import plotCountry\n",
    "\n",
    "countryList = [\"hi\", \"us\",\"Tunisia Democracy\"]\n",
    "#x = plotCountry.pytrendPlot(countryList)\n",
    "pytrends.build_payload(countryList, cat=None,timeframe='all', geo='US', gprop='') #, cat=0 not included\n",
    "\n",
    "data = pytrends.interest_over_time()\n",
    "data = data[countryList]\n",
    "\n",
    "data\n"
   ]
  },
  {
   "cell_type": "code",
   "execution_count": 24,
   "metadata": {},
   "outputs": [
    {
     "data": {
      "text/plain": [
       "{'hi':     us  Tunisia Democracy\n",
       " hi                       \n",
       " 3   69                  0\n",
       " 4   70                  0\n",
       " 4   69                  0\n",
       " 4   69                  0\n",
       " 4   70                  0\n",
       " ..  ..                ...\n",
       " 4   65                  0\n",
       " 4   67                  0\n",
       " 4   62                  0\n",
       " 4   61                  0\n",
       " 4   62                  0\n",
       " \n",
       " [208 rows x 2 columns],\n",
       " 'us':     hi  Tunisia Democracy\n",
       " us                       \n",
       " 69   3                  0\n",
       " 70   4                  0\n",
       " 69   4                  0\n",
       " 69   4                  0\n",
       " 70   4                  0\n",
       " ..  ..                ...\n",
       " 65   4                  0\n",
       " 67   4                  0\n",
       " 62   4                  0\n",
       " 61   4                  0\n",
       " 62   4                  0\n",
       " \n",
       " [208 rows x 2 columns],\n",
       " 'Tunisia Democracy':                    hi  us\n",
       " Tunisia Democracy        \n",
       " 0                   3  69\n",
       " 0                   4  70\n",
       " 0                   4  69\n",
       " 0                   4  69\n",
       " 0                   4  70\n",
       " ...                ..  ..\n",
       " 0                   4  65\n",
       " 0                   4  67\n",
       " 0                   4  62\n",
       " 0                   4  61\n",
       " 0                   4  62\n",
       " \n",
       " [208 rows x 2 columns]}"
      ]
     },
     "execution_count": 24,
     "metadata": {},
     "output_type": "execute_result"
    }
   ],
   "source": [
    "plotCountry.getSpecificCountriesData(data, countryList)"
   ]
  },
  {
   "cell_type": "code",
   "execution_count": 25,
   "metadata": {},
   "outputs": [
    {
     "name": "stdout",
     "output_type": "stream",
     "text": [
      "[    us  Tunisia Democracy\n",
      "hi                       \n",
      "3   69                  0\n",
      "4   70                  0\n",
      "4   69                  0\n",
      "4   69                  0\n",
      "4   70                  0\n",
      "..  ..                ...\n",
      "4   65                  0\n",
      "4   67                  0\n",
      "4   62                  0\n",
      "4   61                  0\n",
      "4   62                  0\n",
      "\n",
      "[208 rows x 2 columns],     hi  Tunisia Democracy\n",
      "us                       \n",
      "69   3                  0\n",
      "70   4                  0\n",
      "69   4                  0\n",
      "69   4                  0\n",
      "70   4                  0\n",
      "..  ..                ...\n",
      "65   4                  0\n",
      "67   4                  0\n",
      "62   4                  0\n",
      "61   4                  0\n",
      "62   4                  0\n",
      "\n",
      "[208 rows x 2 columns],                    hi  us\n",
      "Tunisia Democracy        \n",
      "0                   3  69\n",
      "0                   4  70\n",
      "0                   4  69\n",
      "0                   4  69\n",
      "0                   4  70\n",
      "...                ..  ..\n",
      "0                   4  65\n",
      "0                   4  67\n",
      "0                   4  62\n",
      "0                   4  61\n",
      "0                   4  62\n",
      "\n",
      "[208 rows x 2 columns]]\n"
     ]
    }
   ],
   "source": [
    "from matplotlib import pyplot as plt\n",
    "x = plotCountry.getTime(data)\n",
    "y = plotCountry.getSpecificCountriesData(data, countryList)\n",
    "res = [val for key, val in y.items()]\n",
    "\n",
    "print(res)\n",
    "#plt.plot(x, res[0]) \n"
   ]
  },
  {
   "cell_type": "code",
   "execution_count": null,
   "metadata": {},
   "outputs": [],
   "source": [
    "countryList = [\"Tunisia Democracy\", \"hi\", \"no\", \"yes\"]\n",
    "\n",
    "plotCountry.makePlots(countryList)"
   ]
  },
  {
   "cell_type": "code",
   "execution_count": null,
   "metadata": {},
   "outputs": [],
   "source": [
    "plotCountry.getChange([\"Tunisia Democracy\"])"
   ]
  },
  {
   "cell_type": "code",
   "execution_count": 44,
   "metadata": {},
   "outputs": [
    {
     "name": "stdout",
     "output_type": "stream",
     "text": [
      "The original dictionary is : {'gfg': [1, 3, 4], 'is': [7, 6], 'best': [4, 5]}\n",
      "[1, 3, 4]\n",
      "The converted list is : [['gfg', 1, 3, 4], ['is', 7, 6], ['best', 4, 5]]\n"
     ]
    }
   ],
   "source": [
    "# Python3 code to demonstrate working of \n",
    "# Convert Key-Value list Dictionary to Lists of List\n",
    "# Using list comprehension\n",
    "  \n",
    "# initializing Dictionary\n",
    "test_dict = {'gfg' : [1, 3, 4], 'is' : [7, 6], 'best' : [4, 5]}\n",
    "  \n",
    "# printing original dictionary\n",
    "print(\"The original dictionary is : \" + str(test_dict))\n",
    "  \n",
    "# Convert Key-Value list Dictionary to Lists of List\n",
    "# Using list comprehension\n",
    "res = [[key] + val for key, val in test_dict.items()]\n",
    "print(res[0][1:])\n",
    "# printing result \n",
    "print(\"The converted list is : \" + str(res)) "
   ]
  },
  {
   "cell_type": "code",
   "execution_count": 98,
   "metadata": {},
   "outputs": [
    {
     "data": {
      "text/plain": [
       "Text(0.5, 1.0, 'Keyword: \"Python, R, Hi,\" Interest In the US over Time')"
      ]
     },
     "execution_count": 98,
     "metadata": {},
     "output_type": "execute_result"
    },
    {
     "data": {
      "image/png": "[encoded data removed]",
      "text/plain": [
       "<Figure size 432x288 with 1 Axes>"
      ]
     },
     "metadata": {
      "needs_background": "light"
     },
     "output_type": "display_data"
    },
    {
     "data": {
      "image/png": "[encoded data removed]",
      "text/plain": [
       "<Figure size 432x288 with 1 Axes>"
      ]
     },
     "metadata": {
      "needs_background": "light"
     },
     "output_type": "display_data"
    }
   ],
   "source": [
    "import pandas as pd\n",
    "from pytrends.request import TrendReq\n",
    "pytrend = TrendReq(hl='en-US', tz=360)\n",
    "keywords = ['Python', 'R', 'Hi']\n",
    "pytrend.build_payload(\n",
    "     kw_list=keywords,\n",
    "     cat=0,\n",
    "     timeframe='all',\n",
    "     geo='US',\n",
    "     gprop='')\n",
    "data = pytrend.interest_over_time()\n",
    "data= data.drop(labels=['isPartial'],axis='columns')\n",
    "image = data.plot(title = 'Python V.S. R in last 3 months on Google Trends ')\n",
    "fig = image.get_figure()\n",
    "type(data)\n",
    "b = data.rolling(6).mean()\n",
    "x= \", \".join(keywords)\n",
    "b.plot()\n",
    "plt.title(\"Keyword: \\\"\"+ x + \",\\\" Interest In the US over Time\")\n"
   ]
  },
  {
   "cell_type": "code",
   "execution_count": 94,
   "metadata": {},
   "outputs": [
    {
     "data": {
      "text/html": [
       "<div>\n",
       "<style scoped>\n",
       "    .dataframe tbody tr th:only-of-type {\n",
       "        vertical-align: middle;\n",
       "    }\n",
       "\n",
       "    .dataframe tbody tr th {\n",
       "        vertical-align: top;\n",
       "    }\n",
       "\n",
       "    .dataframe thead th {\n",
       "        text-align: right;\n",
       "    }\n",
       "</style>\n",
       "<table border=\"1\" class=\"dataframe\">\n",
       "  <thead>\n",
       "    <tr style=\"text-align: right;\">\n",
       "      <th></th>\n",
       "      <th>Python</th>\n",
       "      <th>R</th>\n",
       "      <th>Hi</th>\n",
       "    </tr>\n",
       "    <tr>\n",
       "      <th>date</th>\n",
       "      <th></th>\n",
       "      <th></th>\n",
       "      <th></th>\n",
       "    </tr>\n",
       "  </thead>\n",
       "  <tbody>\n",
       "    <tr>\n",
       "      <th>2004-01-01</th>\n",
       "      <td>10</td>\n",
       "      <td>43</td>\n",
       "      <td>9</td>\n",
       "    </tr>\n",
       "    <tr>\n",
       "      <th>2004-02-01</th>\n",
       "      <td>9</td>\n",
       "      <td>42</td>\n",
       "      <td>10</td>\n",
       "    </tr>\n",
       "    <tr>\n",
       "      <th>2004-03-01</th>\n",
       "      <td>9</td>\n",
       "      <td>44</td>\n",
       "      <td>11</td>\n",
       "    </tr>\n",
       "    <tr>\n",
       "      <th>2004-04-01</th>\n",
       "      <td>9</td>\n",
       "      <td>43</td>\n",
       "      <td>10</td>\n",
       "    </tr>\n",
       "    <tr>\n",
       "      <th>2004-05-01</th>\n",
       "      <td>10</td>\n",
       "      <td>41</td>\n",
       "      <td>10</td>\n",
       "    </tr>\n",
       "    <tr>\n",
       "      <th>...</th>\n",
       "      <td>...</td>\n",
       "      <td>...</td>\n",
       "      <td>...</td>\n",
       "    </tr>\n",
       "    <tr>\n",
       "      <th>2020-12-01</th>\n",
       "      <td>15</td>\n",
       "      <td>33</td>\n",
       "      <td>11</td>\n",
       "    </tr>\n",
       "    <tr>\n",
       "      <th>2021-01-01</th>\n",
       "      <td>15</td>\n",
       "      <td>36</td>\n",
       "      <td>11</td>\n",
       "    </tr>\n",
       "    <tr>\n",
       "      <th>2021-02-01</th>\n",
       "      <td>17</td>\n",
       "      <td>40</td>\n",
       "      <td>11</td>\n",
       "    </tr>\n",
       "    <tr>\n",
       "      <th>2021-03-01</th>\n",
       "      <td>18</td>\n",
       "      <td>40</td>\n",
       "      <td>11</td>\n",
       "    </tr>\n",
       "    <tr>\n",
       "      <th>2021-04-01</th>\n",
       "      <td>17</td>\n",
       "      <td>38</td>\n",
       "      <td>11</td>\n",
       "    </tr>\n",
       "  </tbody>\n",
       "</table>\n",
       "<p>208 rows × 3 columns</p>\n",
       "</div>"
      ],
      "text/plain": [
       "            Python   R  Hi\n",
       "date                      \n",
       "2004-01-01      10  43   9\n",
       "2004-02-01       9  42  10\n",
       "2004-03-01       9  44  11\n",
       "2004-04-01       9  43  10\n",
       "2004-05-01      10  41  10\n",
       "...            ...  ..  ..\n",
       "2020-12-01      15  33  11\n",
       "2021-01-01      15  36  11\n",
       "2021-02-01      17  40  11\n",
       "2021-03-01      18  40  11\n",
       "2021-04-01      17  38  11\n",
       "\n",
       "[208 rows x 3 columns]"
      ]
     },
     "execution_count": 94,
     "metadata": {},
     "output_type": "execute_result"
    }
   ],
   "source": [
    "import pylab as pl\n",
    "\n",
    "import plotCountryUpdated\n",
    "def pytrendData(countryList, save_name=\"\", directory=\"\", category=0, time='all', loc='US'):\n",
    "    pytrends.build_payload(countryList, cat=category, timeframe=time, geo=loc, gprop='')\n",
    "    countryData = pytrends.interest_over_time()\n",
    "    return countryData\n",
    "data = pytrendData(keywords)\n",
    "data= data.drop(labels=['isPartial'],axis='columns')\n",
    "data"
   ]
  },
  {
   "cell_type": "code",
   "execution_count": 137,
   "metadata": {},
   "outputs": [
    {
     "data": {
      "text/plain": [
       "Text(0.5, 1.0, 'Python')"
      ]
     },
     "execution_count": 137,
     "metadata": {},
     "output_type": "execute_result"
    },
    {
     "data": {
      "image/png": "[encoded data removed]",
      "text/plain": [
       "<Figure size 432x288 with 1 Axes>"
      ]
     },
     "metadata": {
      "needs_background": "light"
     },
     "output_type": "display_data"
    }
   ],
   "source": [
    "\n",
    "#plotCountryUpdated.makePlots(data, keywords)\n",
    "#plotCountryUpdated.rollingAverage(data, keywords, 5)\n",
    "#plotCountryUpdated.boxplots(data)\n",
    "histdata = data[\"Python\"].hist()\n",
    "pl.xlabel(\"Value\")\n",
    "pl.ylabel(\"Frequency\")\n",
    "pl.title(\"Python\")\n",
    "\n",
    "#ax.xlabel(\"Value)\n",
    "#ax.ylabel(\"Frequency\")\n",
    "\n"
   ]
  },
  {
   "cell_type": "code",
   "execution_count": 139,
   "metadata": {},
   "outputs": [
    {
     "data": {
      "image/png": "[encoded data removed]",
      "text/plain": [
       "<Figure size 432x288 with 1 Axes>"
      ]
     },
     "metadata": {
      "needs_background": "light"
     },
     "output_type": "display_data"
    }
   ],
   "source": [
    "plotCountryUpdated.boxplots(data, \"Python\")\n"
   ]
  }
 ],
 "metadata": {
  "kernelspec": {
   "display_name": "Python 3",
   "language": "python",
   "name": "python3"
  },
  "language_info": {
   "codemirror_mode": {
    "name": "ipython",
    "version": 3
   },
   "file_extension": ".py",
   "mimetype": "text/x-python",
   "name": "python",
   "nbconvert_exporter": "python",
   "pygments_lexer": "ipython3",
   "version": "3.8.5"
  }
 },
 "nbformat": 4,
 "nbformat_minor": 4
}
